{
 "cells": [
  {
   "cell_type": "code",
   "execution_count": 1,
   "id": "82b53910",
   "metadata": {},
   "outputs": [],
   "source": [
    "import torch\n",
    "import numpy as np"
   ]
  },
  {
   "cell_type": "code",
   "execution_count": 2,
   "id": "b775c640",
   "metadata": {},
   "outputs": [],
   "source": [
    "from models import *\n",
    "from datasets import *\n",
    "from trainer import *\n",
    "from utils import *"
   ]
  },
  {
   "cell_type": "code",
   "execution_count": 3,
   "id": "0d9f7083",
   "metadata": {},
   "outputs": [],
   "source": [
    "import time\n",
    "\n",
    "def run(setups, dataset_name, lr_schedule, reps=1, file_name=None):\n",
    "    results = {}\n",
    "    for run_number in range(1, reps+1):\n",
    "        for case in setups:\n",
    "            case_name = case if reps==1 else case + f\" run:{run_number}\"\n",
    "            results[case_name] = {}\n",
    "        \n",
    "    for run_number in range(1, reps+1):\n",
    "        train_set, test_set = get_dataset(dataset_name)\n",
    "        initial_state_dict = get_temp_state_dict(dataset_name)\n",
    "        \n",
    "        for case, population_args in setups.items():\n",
    "            print(f\"\\n--- Case: {case}, run number: {run_number}\")\n",
    "            start_time = time.time()\n",
    "            trainer = HybridSGDTrainer(population_args, \n",
    "                                       dataset_name, train_set, test_set, \n",
    "                                       initial_state_dict)\n",
    "            history = trainer.train(lr_schedule)\n",
    "            log_dict = {}\n",
    "            for key in history[0].keys():\n",
    "                case_name = case if reps==1 else case + f\" run:{run_number}\"\n",
    "                results[case_name][key] = [x[key] for x in history]\n",
    "            end_time = time.time()\n",
    "            print(\"Running time: {:.4f}\".format(float(end_time-start_time)))\n",
    "    if file_name:\n",
    "        torch.save(results, f\"Results/{dataset_name}/{file_name}\")\n",
    "    return results"
   ]
  },
  {
   "cell_type": "code",
   "execution_count": 4,
   "id": "71bac428",
   "metadata": {},
   "outputs": [],
   "source": [
    "setups = {}\n",
    "\n",
    "## Setups go here. The followings are just examples.\n",
    "setups['2 FO'] = [{'grad_mode': 'first order','count': 2}]\n",
    "setups['6 ZO'] = [{'grad_mode': 'zeroth order forward-mode AD','count': 6, 'random vecs': 200}]\n",
    "setups['2 FO 6 ZO'] = [{'grad_mode': 'first order','count': 2},\n",
    "                       {'grad_mode': 'zeroth order forward-mode AD','count': 6, 'random vecs': 200}]\n",
    "\n",
    "dataset_name = 'flowers'\n",
    "lr_schedule = [(200, 0.001, 10)]"
   ]
  },
  {
   "cell_type": "code",
   "execution_count": 5,
   "id": "ace3cdfa",
   "metadata": {
    "scrolled": true
   },
   "outputs": [
    {
     "name": "stdout",
     "output_type": "stream",
     "text": [
      "\n",
      "--- Case: 2 FO, run number: 1\n",
      "Steps:     0, Training loss: 0.0000, Validation loss: 4.6844, Validation accuracy: 0.01\n",
      "Steps:    10, Training loss: 4.6614, Validation loss: 4.6785, Validation accuracy: 0.01\n",
      "Steps:    20, Training loss: 4.6541, Validation loss: 4.6721, Validation accuracy: 0.01\n",
      "Steps:    30, Training loss: 4.6458, Validation loss: 4.6655, Validation accuracy: 0.01\n",
      "Steps:    40, Training loss: 4.6338, Validation loss: 4.6589, Validation accuracy: 0.01\n",
      "Steps:    50, Training loss: 4.6198, Validation loss: 4.6524, Validation accuracy: 0.01\n",
      "Steps:    60, Training loss: 4.6057, Validation loss: 4.6460, Validation accuracy: 0.02\n",
      "Steps:    70, Training loss: 4.5935, Validation loss: 4.6397, Validation accuracy: 0.02\n",
      "Steps:    80, Training loss: 4.5796, Validation loss: 4.6335, Validation accuracy: 0.02\n",
      "Steps:    90, Training loss: 4.5646, Validation loss: 4.6275, Validation accuracy: 0.02\n",
      "Steps:   100, Training loss: 4.5499, Validation loss: 4.6216, Validation accuracy: 0.02\n",
      "Steps:   110, Training loss: 4.5375, Validation loss: 4.6157, Validation accuracy: 0.02\n",
      "Steps:   120, Training loss: 4.5238, Validation loss: 4.6098, Validation accuracy: 0.02\n",
      "Steps:   130, Training loss: 4.5091, Validation loss: 4.6042, Validation accuracy: 0.02\n",
      "Steps:   140, Training loss: 4.4946, Validation loss: 4.5986, Validation accuracy: 0.02\n",
      "Steps:   150, Training loss: 4.4823, Validation loss: 4.5930, Validation accuracy: 0.02\n",
      "Steps:   160, Training loss: 4.4691, Validation loss: 4.5875, Validation accuracy: 0.03\n",
      "Steps:   170, Training loss: 4.4548, Validation loss: 4.5821, Validation accuracy: 0.03\n",
      "Steps:   180, Training loss: 4.4405, Validation loss: 4.5768, Validation accuracy: 0.03\n",
      "Steps:   190, Training loss: 4.4285, Validation loss: 4.5715, Validation accuracy: 0.03\n",
      "Running time: 18.1042\n",
      "\n",
      "--- Case: 6 ZO, run number: 1\n",
      "Steps:     0, Training loss: 0.0000, Validation loss: 4.6844, Validation accuracy: 0.01\n",
      "Steps:    10, Training loss: 4.6676, Validation loss: 4.6757, Validation accuracy: 0.01\n",
      "Steps:    20, Training loss: 4.6507, Validation loss: 4.6693, Validation accuracy: 0.01\n",
      "Steps:    30, Training loss: 4.6357, Validation loss: 4.6622, Validation accuracy: 0.01\n",
      "Steps:    40, Training loss: 4.6169, Validation loss: 4.6562, Validation accuracy: 0.01\n",
      "Steps:    52, Training loss: 4.6030, Validation loss: 4.6493, Validation accuracy: 0.01\n",
      "Steps:    61, Training loss: 4.5880, Validation loss: 4.6434, Validation accuracy: 0.02\n",
      "Steps:    72, Training loss: 4.5726, Validation loss: 4.6373, Validation accuracy: 0.02\n",
      "Steps:    82, Training loss: 4.5593, Validation loss: 4.6320, Validation accuracy: 0.02\n",
      "Steps:    94, Training loss: 4.5460, Validation loss: 4.6262, Validation accuracy: 0.02\n",
      "Steps:   103, Training loss: 4.5301, Validation loss: 4.6229, Validation accuracy: 0.02\n",
      "Steps:   115, Training loss: 4.5148, Validation loss: 4.6164, Validation accuracy: 0.02\n",
      "Steps:   122, Training loss: 4.5016, Validation loss: 4.6128, Validation accuracy: 0.02\n",
      "Steps:   132, Training loss: 4.4906, Validation loss: 4.6055, Validation accuracy: 0.02\n",
      "Steps:   144, Training loss: 4.4784, Validation loss: 4.5996, Validation accuracy: 0.02\n",
      "Steps:   152, Training loss: 4.4633, Validation loss: 4.5953, Validation accuracy: 0.02\n",
      "Steps:   159, Training loss: 4.4510, Validation loss: 4.5899, Validation accuracy: 0.03\n",
      "Steps:   170, Training loss: 4.4385, Validation loss: 4.5834, Validation accuracy: 0.03\n",
      "Steps:   180, Training loss: 4.4219, Validation loss: 4.5780, Validation accuracy: 0.03\n",
      "Steps:   192, Training loss: 4.4128, Validation loss: 4.5735, Validation accuracy: 0.03\n",
      "Running time: 103.7738\n",
      "\n",
      "--- Case: 2 FO 6 ZO, run number: 1\n",
      "Steps:     0, Training loss: 0.0000, Validation loss: 4.6844, Validation accuracy: 0.01\n",
      "Steps:    10, Training loss: 4.6584, Validation loss: 4.6790, Validation accuracy: 0.01\n",
      "Steps:    21, Training loss: 4.6420, Validation loss: 4.6711, Validation accuracy: 0.01\n",
      "Steps:    30, Training loss: 4.6305, Validation loss: 4.6636, Validation accuracy: 0.01\n",
      "Steps:    42, Training loss: 4.6137, Validation loss: 4.6575, Validation accuracy: 0.01\n",
      "Steps:    52, Training loss: 4.6000, Validation loss: 4.6514, Validation accuracy: 0.01\n",
      "Steps:    63, Training loss: 4.5830, Validation loss: 4.6446, Validation accuracy: 0.02\n",
      "Steps:    72, Training loss: 4.5678, Validation loss: 4.6391, Validation accuracy: 0.02\n",
      "Steps:    83, Training loss: 4.5545, Validation loss: 4.6320, Validation accuracy: 0.02\n",
      "Steps:    93, Training loss: 4.5414, Validation loss: 4.6274, Validation accuracy: 0.02\n",
      "Steps:   102, Training loss: 4.5253, Validation loss: 4.6199, Validation accuracy: 0.02\n",
      "Steps:   112, Training loss: 4.5096, Validation loss: 4.6148, Validation accuracy: 0.02\n",
      "Steps:   123, Training loss: 4.5033, Validation loss: 4.6093, Validation accuracy: 0.02\n",
      "Steps:   132, Training loss: 4.4870, Validation loss: 4.6037, Validation accuracy: 0.02\n",
      "Steps:   143, Training loss: 4.4722, Validation loss: 4.5971, Validation accuracy: 0.02\n",
      "Steps:   152, Training loss: 4.4634, Validation loss: 4.5917, Validation accuracy: 0.02\n",
      "Steps:   160, Training loss: 4.4448, Validation loss: 4.5872, Validation accuracy: 0.03\n",
      "Steps:   169, Training loss: 4.4297, Validation loss: 4.5823, Validation accuracy: 0.03\n",
      "Steps:   177, Training loss: 4.4205, Validation loss: 4.5768, Validation accuracy: 0.03\n",
      "Steps:   188, Training loss: 4.4038, Validation loss: 4.5711, Validation accuracy: 0.03\n",
      "Running time: 119.3492\n"
     ]
    }
   ],
   "source": [
    "logs = run(setups, dataset_name, lr_schedule, reps=1, file_name=None)"
   ]
  },
  {
   "cell_type": "code",
   "execution_count": 6,
   "id": "c2def2e8",
   "metadata": {},
   "outputs": [
    {
     "data": {
      "image/png": "[encoded data removed]",
      "text/plain": [
       "<Figure size 432x288 with 1 Axes>"
      ]
     },
     "metadata": {},
     "output_type": "display_data"
    }
   ],
   "source": [
    "name = None \n",
    "plot_trends(logs, 'Steps', 'Training loss',   100, dataset_folder=dataset_name, name=name)"
   ]
  }
 ],
 "metadata": {
  "kernelspec": {
   "display_name": "Python (myenv)",
   "language": "python",
   "name": "myenv"
  },
  "language_info": {
   "codemirror_mode": {
    "name": "ipython",
    "version": 3
   },
   "file_extension": ".py",
   "mimetype": "text/x-python",
   "name": "python",
   "nbconvert_exporter": "python",
   "pygments_lexer": "ipython3",
   "version": "3.7.11"
  }
 },
 "nbformat": 4,
 "nbformat_minor": 5
}
